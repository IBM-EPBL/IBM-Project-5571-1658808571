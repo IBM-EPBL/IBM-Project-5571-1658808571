{
 "cells": [
  {
   "cell_type": "markdown",
   "id": "eea68ec5",
   "metadata": {},
   "source": [
    "# PNT2022TMID00722\n"
   ]
  },
  {
   "cell_type": "markdown",
   "id": "803244dd",
   "metadata": {},
   "source": [
    "#  Date : 17/11/2022"
   ]
  },
  {
   "cell_type": "markdown",
   "id": "c83fdc20",
   "metadata": {},
   "source": [
    "# IMPORT NECESSARY LIBRARIES "
   ]
  },
  {
   "cell_type": "code",
   "execution_count": 3,
   "id": "43645ce7",
   "metadata": {},
   "outputs": [
    {
     "name": "stdout",
     "output_type": "stream",
     "text": [
      "Requirement already satisfied: openpyxl in c:\\users\\vicky reddy\\anaconda3\\lib\\site-packages (3.0.9)\n",
      "Requirement already satisfied: et-xmlfile in c:\\users\\vicky reddy\\anaconda3\\lib\\site-packages (from openpyxl) (1.1.0)\n"
     ]
    }
   ],
   "source": [
    "import pandas as pd\n",
    "import numpy as np\n",
    "import matplotlib.pyplot as plt\n",
    "import re\n",
    "import os\n",
    "import collections\n",
    "import seaborn as sns\n",
    "import plotly.express as px\n",
    "import warnings\n",
    "warnings.filterwarnings('ignore')\n",
    "!pip3 install openpyxl"
   ]
  }
 ],
 "metadata": {
  "kernelspec": {
   "display_name": "Python 3 (ipykernel)",
   "language": "python",
   "name": "python3"
  },
  "language_info": {
   "codemirror_mode": {
    "name": "ipython",
    "version": 3
   },
   "file_extension": ".py",
   "mimetype": "text/x-python",
   "name": "python",
   "nbconvert_exporter": "python",
   "pygments_lexer": "ipython3",
   "version": "3.9.12"
  }
 },
 "nbformat": 4,
 "nbformat_minor": 5
}
